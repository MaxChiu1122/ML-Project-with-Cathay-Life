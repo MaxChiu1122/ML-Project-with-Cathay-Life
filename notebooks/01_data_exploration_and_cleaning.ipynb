import pandas as pd
import numpy as np
import matplotlib.pyplot as plt
import seaborn as sns
from sklearn.preprocessing import StandardScaler
from sklearn.neighbors import LocalOutlierFactor, NearestNeighbors
from sklearn.ensemble import IsolationForest
from sklearn.impute import SimpleImputer
from scipy.stats.mstats import winsorize
from sklearn.manifold import TSNE
import os, warnings

# =============================================================================
# 0. 參數區（方便日後調）
# =============================================================================
CONTAMINATION_DEFAULT = 0.05  # 預設 5%
CONTAMINATION_VARIANTS = [0.03, 0.07]  # 測試不同污染率
KNN_K = 5
KNN_PERCENTILE = 95
LOF_NEIGHBORS = 50  # 已加大，緩解 duplicate warning
TSNE_VISUAL = True  # 若維度多於 2，是否跑 t-SNE
SEED = 42
np.random.seed(SEED)

# =============================================================================
# 1. 讀檔 & 基本前處理
# =============================================================================
data_path = r"C:\大四下\機器學習與人工智慧實作\ML-Project-with-Cathay-Life\data\cleaned\heart_2022_cleaned_01.csv"
if not os.path.isfile(data_path):
    raise FileNotFoundError(f"{data_path} 不存在！")

df = pd.read_csv(data_path)
print("原始資料集形狀：", df.shape)

# -----------------------------------------------------------------------------
# 1-a. 移除重複值，避免影響 LOF
# -----------------------------------------------------------------------------
dup_mask = df.duplicated(keep='first')
if dup_mask.any():
    print(f"偵測到 {dup_mask.sum()} 筆重複樣本，將移除以提升分析準確性。")
    df = df[~dup_mask].copy()
    print("移除重複值後的資料集形狀：", df.shape)

features = df.select_dtypes(include=[np.number]).columns
if len(features) == 0:
    raise ValueError("資料集不包含數值型特徵！")
print(f"選取的數值特徵：{list(features)}")

X = df[features].values
scaler = StandardScaler()
X_scaled = scaler.fit_transform(X)

# =============================================================================
# 2. 離群值偵測（包含不同 contamination 值的比較）
# =============================================================================
outlier_results = {}

# 2-1 Isolation Forest（不同 contamination）
for cont in [CONTAMINATION_DEFAULT] + CONTAMINATION_VARIANTS:
    iso_forest = IsolationForest(contamination=cont, random_state=SEED)
    iso_labels = iso_forest.fit_predict(X_scaled)
    iso_outliers = iso_labels == -1
    outlier_results[f"IsoForest_cont_{cont}"] = iso_outliers
    print(f"Isolation Forest (contamination={cont}) 偵測離群值：", iso_outliers.sum())

# 2-2 KNN-based
def knn_outlier_detection(X, k=KNN_K, threshold_percentile=KNN_PERCENTILE):
    nbrs = NearestNeighbors(n_neighbors=k).fit(X)
    dists, _ = nbrs.kneighbors(X)
    mean_d = dists[:, 1:].mean(axis=1)  # 排除自身距離
    thr = np.percentile(mean_d, threshold_percentile)
    return mean_d > thr

knn_outliers = knn_outlier_detection(X_scaled)
outlier_results["KNN"] = knn_outliers
print("KNN-based 偵測離群值：", knn_outliers.sum())

# 2-3 Local Outlier Factor
with warnings.catch_warnings():
    warnings.filterwarnings("ignore", category=UserWarning)
    lof = LocalOutlierFactor(n_neighbors=LOF_NEIGHBORS, contamination=CONTAMINATION_DEFAULT)
    lof_labels = lof.fit_predict(X_scaled)
lof_outliers = lof_labels == -1
outlier_results["LOF"] = lof_outliers
print("LOF 偵測離群值：", lof_outliers.sum())

# =============================================================================
# 3. 三法重疊統計 & 簡易 Venn 數字（使用預設 contamination）
# =============================================================================
iso_outliers = outlier_results[f"IsoForest_cont_{CONTAMINATION_DEFAULT}"]
iso_idx, knn_idx, lof_idx = map(set, [np.where(iso_outliers)[0],
                                      np.where(knn_outliers)[0],
                                      np.where(lof_outliers)[0]])

print("\n=== Overlap Summary (contamination=0.05) ===")
print("三者皆同意 =", len(iso_idx & knn_idx & lof_idx))
print("Iso ∩ KNN  =", len(iso_idx & knn_idx))
print("Iso ∩ LOF  =", len(iso_idx & lof_idx))
print("KNN ∩ LOF  =", len(knn_idx & lof_idx))
print("三法聯集總數 =", len(iso_idx | knn_idx | lof_idx))

# =============================================================================
# 4. 視覺化：長條圖 + t-SNE + 箱形圖 + 散點圖
# =============================================================================
# 長條圖（包含不同 contamination 的 Isolation Forest）
methods = [f'IsoForest (cont={cont})' for cont in [CONTAMINATION_DEFAULT] + CONTAMINATION_VARIANTS] + ['KNN-based', 'LOF']
outlier_counts = [outlier_results[f"IsoForest_cont_{cont}"].sum() for cont in [CONTAMINATION_DEFAULT] + CONTAMINATION_VARIANTS] + [knn_outliers.sum(), lof_outliers.sum()]

plt.figure(figsize=(10, 5))
sns.barplot(x=methods, y=outlier_counts, palette='Set2')
plt.title('Number of Outliers Detected by Each Method')
plt.ylabel('Count'); plt.xlabel('Method')
plt.xticks(rotation=15)
for i, c in enumerate(outlier_counts):
    plt.text(i, c + 0.5, str(c), ha='center')
plt.show()

# 箱形圖（檢查每個特徵的離群值分佈）
plt.figure(figsize=(12, 6))
for i, feature in enumerate(features):
    plt.subplot(2, 3, i+1)
    sns.boxplot(y=df[feature])
    plt.title(f'Boxplot of {feature}')
plt.tight_layout()
plt.show()

# 散點圖（身高 vs 體重，標記離群值）
plt.figure(figsize=(8, 6))
sns.scatterplot(x=df['HeightInMeters'], y=df['WeightInKilograms'], hue=np.where(iso_outliers, 'Outlier', 'Normal'), 
                palette={'Outlier': 'red', 'Normal': 'grey'}, alpha=0.6)
plt.title('Height vs Weight with Isolation Forest Outliers')
plt.xlabel('Height (meters)'); plt.ylabel('Weight (kg)')
plt.legend()
plt.show()

# t-SNE（若維度>2 且 TSNE_VISUAL=True）
if TSNE_VISUAL and X.shape[1] > 2:
    tsne = TSNE(n_components=2, random_state=SEED, perplexity=30)
    X_2d = tsne.fit_transform(X_scaled)

    plt.figure(figsize=(6, 5))
    sns.scatterplot(x=X_2d[:, 0], y=X_2d[:, 1], hue=np.where(iso_outliers, 'Outlier', 'Normal'), 
                    palette={'Outlier': 'red', 'Normal': 'grey'}, alpha=0.6)
    plt.title('t-SNE with Isolation Forest Labels (contamination=0.05)')
    plt.legend()
    plt.show()

# =============================================================================
# 5. 離群值特徵統計（以 Isolation Forest 為例）
# =============================================================================
outlier_df = df[iso_outliers]
normal_df = df[~iso_outliers]

print("\n=== Outlier Feature Statistics ===")
print("Outlier vs Normal Mean Values:")
stats_df = pd.DataFrame({
    'Outlier Mean': outlier_df[features].mean(),
    'Normal Mean': normal_df[features].mean(),
    'Difference': outlier_df[features].mean() - normal_df[features].mean()
})
print(stats_df)

# =============================================================================
# 6. 離群值處理（以 IsoForest 為例）
# =============================================================================
df_cleaned = df.copy()
df_removed = df_cleaned[~iso_outliers].copy()
print("\n刪除 IsoForest 離群值後大小：", df_removed.shape)

imputer = SimpleImputer(strategy='median')
df_imputed = df_cleaned.copy()
df_imputed.loc[iso_outliers, features] = imputer.fit_transform(df_imputed.loc[iso_outliers, features])

df_winsor = df_cleaned.copy()
for f in features:
    df_winsor[f] = winsorize(df_winsor[f], limits=[0.05, 0.05])

out_dir = r"C:\大四下\機器學習與人工智慧實作\ML-Project-with-Cathay-Life\data\cleaned\processed"
os.makedirs(out_dir, exist_ok=True)
df_removed.to_csv(os.path.join(out_dir, 'data_removed_outliers.csv'), index=False)
df_imputed.to_csv(os.path.join(out_dir, 'data_imputed_outliers.csv'), index=False)
df_winsor.to_csv(os.path.join(out_dir, 'data_winsorized_outliers.csv'), index=False)
print("處理後資料已存至：", out_dir)

# =============================================================================
# 7. 總結報告
# =============================================================================
print("\n=== 離群值分析總結報告 ===")
print(f"1. 資料集總樣本數：{len(df)}")
print(f"2. 移除重複值後樣本數：{len(df)}（已移除 {dup_mask.sum()} 筆）")
print(f"3. 離群值數量（contamination=0.05）：")
print(f"   - Isolation Forest: {iso_outliers.sum()}")
print(f"   - KNN-based: {knn_outliers.sum()}")
print(f"   - LOF: {lof_outliers.sum()}")
print(f"4. 離群值特徵分析：")
print("   - 離群值顯示出較高的健康不良天數（如 PhysicalHealthDays 和 MentalHealthDays）。")
print("   - 部分離群值可能來自極端的身高體重組合（見散點圖）。")
print("5. 建議：")
print("   - 針對離群值中的高風險客戶，建議調整保費或推出健康干預計劃。")
print("   - 進一步檢查極端 BMI 或健康天數的數據，確認是否為記錄錯誤。")
print("   - 定期清理重複值，提升數據品質。")
