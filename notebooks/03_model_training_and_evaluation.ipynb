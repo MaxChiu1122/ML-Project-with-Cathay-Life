{
 "cells": [
  {
   "cell_type": "markdown",
   "id": "f863607c",
   "metadata": {},
   "source": [
    "# This notebook will contain the model training process, evaluation, and hyperparameter tuning:\n",
    "\n",
    "- Model selection (e.g., logistic regression, random forest, etc.)\n",
    "\n",
    "- Splitting data into train/test sets\n",
    "\n",
    "- Model training, evaluation, and cross-validation\n",
    "\n",
    "- Hyperparameter tuning"
   ]
  }
 ],
 "metadata": {
  "kernelspec": {
   "display_name": "Python 3",
   "language": "python",
   "name": "python3"
  },
  "language_info": {
   "name": "python",
   "version": "3.12.10"
  }
 },
 "nbformat": 4,
 "nbformat_minor": 5
}
