{
 "cells": [
  {
   "cell_type": "markdown",
   "id": "f863607c",
   "metadata": {},
   "source": [
    "# This notebook will contain the model training process, evaluation, and hyperparameter tuning:\n",
    "\n",
    "- Model selection (e.g., logistic regression, random forest, etc.)\n",
    "\n",
    "- Splitting data into train/test sets\n",
    "\n",
    "- Model training, evaluation, and cross-validation\n",
    "\n",
    "- Hyperparameter tuning"
   ]
  }
 ],
 "metadata": {
  "language_info": {
   "name": "python"
  }
 },
 "nbformat": 4,
 "nbformat_minor": 5
}
